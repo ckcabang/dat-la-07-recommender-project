{
 "cells": [
  {
   "cell_type": "markdown",
   "metadata": {},
   "source": [
    "#Building a Recommender System with the MovieLens Data Set\n",
    "> I wanted to build a recommender system using the MovieLens data set trying out both user-based collaborative filtering and item-based collaborative filtering and exploring the pros and cons of both."
   ]
  },
  {
   "cell_type": "markdown",
   "metadata": {},
   "source": [
    "##The Data\n",
    "I used the MovieLens 100k data set. This is downloadable from their website and consists of 100,000 ratings from 943 users on 1,682 movies. The data is pre-cleaned with users having less than 20 ratings being removed."
   ]
  },
  {
   "cell_type": "markdown",
   "metadata": {},
   "source": [
    "##Exploration"
   ]
  },
  {
   "cell_type": "code",
   "execution_count": 442,
   "metadata": {
    "collapsed": false
   },
   "outputs": [
    {
     "data": {
      "text/html": [
       "<div>\n",
       "<table border=\"1\" class=\"dataframe\">\n",
       "  <thead>\n",
       "    <tr style=\"text-align: right;\">\n",
       "      <th></th>\n",
       "      <th>movie_id</th>\n",
       "      <th>title</th>\n",
       "      <th>release_date</th>\n",
       "      <th>video_release_date</th>\n",
       "      <th>imdb_url</th>\n",
       "      <th>user_id</th>\n",
       "      <th>rating</th>\n",
       "      <th>unix_timestamp</th>\n",
       "      <th>age</th>\n",
       "      <th>sex</th>\n",
       "      <th>occupation</th>\n",
       "      <th>zip_code</th>\n",
       "    </tr>\n",
       "  </thead>\n",
       "  <tbody>\n",
       "    <tr>\n",
       "      <th>0</th>\n",
       "      <td>1</td>\n",
       "      <td>Toy Story (1995)</td>\n",
       "      <td>01-Jan-1995</td>\n",
       "      <td>NaN</td>\n",
       "      <td>http://us.imdb.com/M/title-exact?Toy%20Story%2...</td>\n",
       "      <td>308</td>\n",
       "      <td>4</td>\n",
       "      <td>887736532</td>\n",
       "      <td>60</td>\n",
       "      <td>M</td>\n",
       "      <td>retired</td>\n",
       "      <td>95076</td>\n",
       "    </tr>\n",
       "    <tr>\n",
       "      <th>1</th>\n",
       "      <td>4</td>\n",
       "      <td>Get Shorty (1995)</td>\n",
       "      <td>01-Jan-1995</td>\n",
       "      <td>NaN</td>\n",
       "      <td>http://us.imdb.com/M/title-exact?Get%20Shorty%...</td>\n",
       "      <td>308</td>\n",
       "      <td>5</td>\n",
       "      <td>887737890</td>\n",
       "      <td>60</td>\n",
       "      <td>M</td>\n",
       "      <td>retired</td>\n",
       "      <td>95076</td>\n",
       "    </tr>\n",
       "    <tr>\n",
       "      <th>2</th>\n",
       "      <td>5</td>\n",
       "      <td>Copycat (1995)</td>\n",
       "      <td>01-Jan-1995</td>\n",
       "      <td>NaN</td>\n",
       "      <td>http://us.imdb.com/M/title-exact?Copycat%20(1995)</td>\n",
       "      <td>308</td>\n",
       "      <td>4</td>\n",
       "      <td>887739608</td>\n",
       "      <td>60</td>\n",
       "      <td>M</td>\n",
       "      <td>retired</td>\n",
       "      <td>95076</td>\n",
       "    </tr>\n",
       "    <tr>\n",
       "      <th>3</th>\n",
       "      <td>7</td>\n",
       "      <td>Twelve Monkeys (1995)</td>\n",
       "      <td>01-Jan-1995</td>\n",
       "      <td>NaN</td>\n",
       "      <td>http://us.imdb.com/M/title-exact?Twelve%20Monk...</td>\n",
       "      <td>308</td>\n",
       "      <td>4</td>\n",
       "      <td>887738847</td>\n",
       "      <td>60</td>\n",
       "      <td>M</td>\n",
       "      <td>retired</td>\n",
       "      <td>95076</td>\n",
       "    </tr>\n",
       "    <tr>\n",
       "      <th>4</th>\n",
       "      <td>8</td>\n",
       "      <td>Babe (1995)</td>\n",
       "      <td>01-Jan-1995</td>\n",
       "      <td>NaN</td>\n",
       "      <td>http://us.imdb.com/M/title-exact?Babe%20(1995)</td>\n",
       "      <td>308</td>\n",
       "      <td>5</td>\n",
       "      <td>887736696</td>\n",
       "      <td>60</td>\n",
       "      <td>M</td>\n",
       "      <td>retired</td>\n",
       "      <td>95076</td>\n",
       "    </tr>\n",
       "  </tbody>\n",
       "</table>\n",
       "</div>"
      ],
      "text/plain": [
       "   movie_id                  title release_date  video_release_date  \\\n",
       "0         1       Toy Story (1995)  01-Jan-1995                 NaN   \n",
       "1         4      Get Shorty (1995)  01-Jan-1995                 NaN   \n",
       "2         5         Copycat (1995)  01-Jan-1995                 NaN   \n",
       "3         7  Twelve Monkeys (1995)  01-Jan-1995                 NaN   \n",
       "4         8            Babe (1995)  01-Jan-1995                 NaN   \n",
       "\n",
       "                                            imdb_url  user_id  rating  \\\n",
       "0  http://us.imdb.com/M/title-exact?Toy%20Story%2...      308       4   \n",
       "1  http://us.imdb.com/M/title-exact?Get%20Shorty%...      308       5   \n",
       "2  http://us.imdb.com/M/title-exact?Copycat%20(1995)      308       4   \n",
       "3  http://us.imdb.com/M/title-exact?Twelve%20Monk...      308       4   \n",
       "4     http://us.imdb.com/M/title-exact?Babe%20(1995)      308       5   \n",
       "\n",
       "   unix_timestamp  age sex occupation zip_code  \n",
       "0       887736532   60   M    retired    95076  \n",
       "1       887737890   60   M    retired    95076  \n",
       "2       887739608   60   M    retired    95076  \n",
       "3       887738847   60   M    retired    95076  \n",
       "4       887736696   60   M    retired    95076  "
      ]
     },
     "execution_count": 442,
     "metadata": {},
     "output_type": "execute_result"
    }
   ],
   "source": [
    "import pandas as pd\n",
    "import numpy as np\n",
    "\n",
    "# pass in column names for each CSV\n",
    "u_cols = ['user_id', 'age', 'sex', 'occupation', 'zip_code']\n",
    "users = pd.read_csv('data/ml-100k/u.user', sep='|', names=u_cols)\n",
    "\n",
    "r_cols = ['user_id', 'movie_id', 'rating', 'unix_timestamp']\n",
    "ratings = pd.read_csv('data/ml-100k/u.data', sep='\\t', names=r_cols, encoding='ISO-8859-1')\n",
    "\n",
    "# the movies file contains columns indicating the movie's genres\n",
    "# let's only load the first five columns of the file with usecols\n",
    "m_cols = ['movie_id', 'title', 'release_date', 'video_release_date', 'imdb_url']\n",
    "movies = pd.read_csv('data/ml-100k/u.item', sep='|', names=m_cols, usecols=range(5), encoding='ISO-8859-1')\n",
    "\n",
    "# create one merged DataFrame\n",
    "movie_ratings = pd.merge(movies, ratings)\n",
    "lens = pd.merge(movie_ratings, users)\n",
    "\n",
    "lens.head()"
   ]
  },
  {
   "cell_type": "markdown",
   "metadata": {},
   "source": [
    "###Top 10 most rated movies"
   ]
  },
  {
   "cell_type": "code",
   "execution_count": 430,
   "metadata": {
    "collapsed": false
   },
   "outputs": [
    {
     "name": "stdout",
     "output_type": "stream",
     "text": [
      "title\n",
      "Star Wars (1977)                 583\n",
      "Contact (1997)                   509\n",
      "Fargo (1996)                     508\n",
      "Return of the Jedi (1983)        507\n",
      "Liar Liar (1997)                 485\n",
      "English Patient, The (1996)      481\n",
      "Scream (1996)                    478\n",
      "Toy Story (1995)                 452\n",
      "Air Force One (1997)             431\n",
      "Independence Day (ID4) (1996)    429\n",
      "dtype: int64\n"
     ]
    }
   ],
   "source": [
    "# gets counts for each movie title and order results\n",
    "most_rated = lens.groupby('title').size().order(ascending=False)[:10]\n",
    "print(most_rated)"
   ]
  },
  {
   "cell_type": "markdown",
   "metadata": {},
   "source": [
    "###Top 10 highest rated movies"
   ]
  },
  {
   "cell_type": "code",
   "execution_count": 431,
   "metadata": {
    "collapsed": false
   },
   "outputs": [
    {
     "name": "stdout",
     "output_type": "stream",
     "text": [
      "                                       rating          \n",
      "                                         size      mean\n",
      "title                                                  \n",
      "Close Shave, A (1995)                     112  4.491071\n",
      "Schindler's List (1993)                   298  4.466443\n",
      "Wrong Trousers, The (1993)                118  4.466102\n",
      "Casablanca (1942)                         243  4.456790\n",
      "Shawshank Redemption, The (1994)          283  4.445230\n",
      "Rear Window (1954)                        209  4.387560\n",
      "Usual Suspects, The (1995)                267  4.385768\n",
      "Star Wars (1977)                          583  4.358491\n",
      "12 Angry Men (1957)                       125  4.344000\n",
      "Citizen Kane (1941)                       198  4.292929\n",
      "To Kill a Mockingbird (1962)              219  4.292237\n",
      "One Flew Over the Cuckoo's Nest (1975)    264  4.291667\n",
      "Silence of the Lambs, The (1991)          390  4.289744\n",
      "North by Northwest (1959)                 179  4.284916\n",
      "Godfather, The (1972)                     413  4.283293\n"
     ]
    }
   ],
   "source": [
    "# get average score for each movie\n",
    "movie_stats = lens.groupby('title').agg({'rating': [np.size, np.mean]})\n",
    "\n",
    "# only report movies with at least 100 ratings\n",
    "atleast_100 = movie_stats['rating']['size'] >= 100\n",
    "print(movie_stats[atleast_100].sort([('rating', 'mean')], ascending=False)[:15])"
   ]
  },
  {
   "cell_type": "markdown",
   "metadata": {},
   "source": [
    "###A note on the sparsity of the data set\n",
    "With 943 users and 1,682 movies we have a total of 1,586,126 possible ratings. We only have 100,000 ratings, meaning we are missing **93.70%** of all the possible data!"
   ]
  },
  {
   "cell_type": "markdown",
   "metadata": {},
   "source": [
    "##Feature Selection\n",
    "There is demographic information for the users as well as genre information for each movie. I wanted to start simple so I ended up only using the ratings data for each movie."
   ]
  },
  {
   "cell_type": "markdown",
   "metadata": {},
   "source": [
    "##User-Based Collaborative Filtering"
   ]
  },
  {
   "cell_type": "code",
   "execution_count": 432,
   "metadata": {
    "collapsed": false
   },
   "outputs": [],
   "source": [
    "# import recommendations library\n",
    "import recommendations\n",
    "from importlib import reload\n",
    "reload(recommendations);"
   ]
  },
  {
   "cell_type": "code",
   "execution_count": 433,
   "metadata": {
    "collapsed": true
   },
   "outputs": [],
   "source": [
    "# build a dictionary of preferences by user\n",
    "prefs = recommendations.loadMovieLens()"
   ]
  },
  {
   "cell_type": "code",
   "execution_count": 441,
   "metadata": {
    "collapsed": false
   },
   "outputs": [
    {
     "data": {
      "text/plain": [
       "{'Alien (1979)': 4.0,\n",
       " 'Alien 3 (1992)': 3.0,\n",
       " 'Aliens (1986)': 4.0,\n",
       " 'Arrival, The (1996)': 2.0,\n",
       " 'Bad Boys (1995)': 4.0,\n",
       " 'Batman (1989)': 5.0,\n",
       " 'Batman Returns (1992)': 2.0,\n",
       " 'Blade Runner (1982)': 4.0,\n",
       " 'Booty Call (1997)': 4.0,\n",
       " 'Braveheart (1995)': 5.0,\n",
       " 'Broken Arrow (1996)': 3.0,\n",
       " 'Bulletproof (1996)': 4.0,\n",
       " 'Chain Reaction (1996)': 3.0,\n",
       " 'Clear and Present Danger (1994)': 4.0,\n",
       " 'Crow, The (1994)': 5.0,\n",
       " 'Daylight (1996)': 3.0,\n",
       " 'Demolition Man (1993)': 3.0,\n",
       " 'Die Hard 2 (1990)': 5.0,\n",
       " 'Die Hard: With a Vengeance (1995)': 4.0,\n",
       " 'Dragonheart (1996)': 2.0,\n",
       " 'Empire Strikes Back, The (1980)': 4.0,\n",
       " 'Eraser (1996)': 5.0,\n",
       " 'Escape from L.A. (1996)': 2.0,\n",
       " 'Executive Decision (1996)': 3.0,\n",
       " 'Fugitive, The (1993)': 4.0,\n",
       " 'Glimmer Man, The (1996)': 3.0,\n",
       " 'Godfather, The (1972)': 4.0,\n",
       " 'Heat (1995)': 3.0,\n",
       " 'Hunt for Red October, The (1990)': 4.0,\n",
       " 'Independence Day (ID4) (1996)': 2.0,\n",
       " 'Indiana Jones and the Last Crusade (1989)': 4.0,\n",
       " 'Jurassic Park (1993)': 1.0,\n",
       " 'Long Kiss Goodnight, The (1996)': 3.0,\n",
       " 'Mission: Impossible (1996)': 4.0,\n",
       " 'Money Train (1995)': 2.0,\n",
       " 'Professional, The (1994)': 3.0,\n",
       " 'Pulp Fiction (1994)': 5.0,\n",
       " 'Raiders of the Lost Ark (1981)': 5.0,\n",
       " 'Rock, The (1996)': 4.0,\n",
       " 'Rumble in the Bronx (1995)': 4.0,\n",
       " 'Scream (1996)': 4.0,\n",
       " 'Seven (Se7en) (1995)': 4.0,\n",
       " 'Shooter, The (1995)': 3.0,\n",
       " 'Speed (1994)': 3.0,\n",
       " 'Star Trek IV: The Voyage Home (1986)': 4.0,\n",
       " 'Star Trek: First Contact (1996)': 3.0,\n",
       " 'Star Wars (1977)': 5.0,\n",
       " 'Stargate (1994)': 5.0,\n",
       " 'Sudden Death (1995)': 3.0,\n",
       " 'Terminator 2: Judgment Day (1991)': 4.0,\n",
       " 'Terminator, The (1984)': 5.0,\n",
       " 'Top Gun (1986)': 5.0,\n",
       " 'True Lies (1994)': 4.0,\n",
       " 'True Romance (1993)': 4.0,\n",
       " 'Twelve Monkeys (1995)': 4.0,\n",
       " 'Twister (1996)': 2.0,\n",
       " 'Under Siege (1992)': 4.0}"
      ]
     },
     "execution_count": 441,
     "metadata": {},
     "output_type": "execute_result"
    }
   ],
   "source": [
    "# let's look at the preferences for a particular user\n",
    "prefs['37']"
   ]
  },
  {
   "cell_type": "code",
   "execution_count": 454,
   "metadata": {
    "collapsed": false
   },
   "outputs": [
    {
     "data": {
      "text/plain": [
       "[(5.0, 'They Made Me a Criminal (1939)'),\n",
       " (5.0, \"Someone Else's America (1995)\"),\n",
       " (5.0, 'Santa with Muscles (1996)'),\n",
       " (5.0, 'Prefontaine (1997)'),\n",
       " (5.0, 'Marlene Dietrich: Shadow and Light (1996) '),\n",
       " (5.0, 'Little City (1998)'),\n",
       " (5.0, 'Great Day in Harlem, A (1994)'),\n",
       " (5.0, 'Boys, Les (1997)'),\n",
       " (5.0, 'Aiqing wansui (1994)'),\n",
       " (4.999999999999999, 'Saint of Fort Washington, The (1993)'),\n",
       " (4.801378113392982, 'Maya Lin: A Strong Clear Vision (1994)'),\n",
       " (4.671725730556882, 'Perfect Candidate, A (1996)'),\n",
       " (4.60714682819528, 'Legal Deceit (1997)'),\n",
       " (4.591670203439434, 'Angel Baby (1995)'),\n",
       " (4.576266675886999, 'Pather Panchali (1955)'),\n",
       " (4.563703394460864, 'Love in the Afternoon (1957)'),\n",
       " (4.561433337981203, 'Nénette et Boni (1996)'),\n",
       " (4.561376607987208, 'Anna (1996)'),\n",
       " (4.534775069641421, 'Paths of Glory (1957)'),\n",
       " (4.531030618477851, 'Everest (1998)'),\n",
       " (4.518684997945028, 'Quiet Room, The (1996)'),\n",
       " (4.507380405826082, 'Golden Earrings (1947)'),\n",
       " (4.495300269797751, 'Wallace & Gromit: The Best of Aardman Animation (1996)'),\n",
       " (4.481467923973406, 'Close Shave, A (1995)'),\n",
       " (4.468814839133057, \"Schindler's List (1993)\"),\n",
       " (4.4658107359398835, 'Casablanca (1942)'),\n",
       " (4.4636190379341105, 'Wrong Trousers, The (1993)'),\n",
       " (4.430452291674477, 'Innocents, The (1961)'),\n",
       " (4.426159635735587, 'Incognito (1997)'),\n",
       " (4.424044212861887, 'When We Were Kings (1996)')]"
      ]
     },
     "execution_count": 454,
     "metadata": {},
     "output_type": "execute_result"
    }
   ],
   "source": [
    "# goes through every other person in the prefs dictionary, calculates how similar they are, then multiplies each \n",
    "# item by the user's similarity score, adds up all the products, and takes the weighted average\n",
    "\"\"\"\n",
    "# Gets recommendations for a person by using a weighted average\n",
    "# of every other user's rankings\n",
    "def getRecommendationsByUser(prefs,person,similarity=sim_pearson):\n",
    "  totals={}\n",
    "  simSums={}\n",
    "  for other in prefs:\n",
    "    # don't compare me to myself\n",
    "    if other==person: continue\n",
    "    sim=similarity(prefs,person,other)\n",
    "\n",
    "    # ignore scores of zero or lower\n",
    "    if sim<=0: continue\n",
    "    for item in prefs[other]:\n",
    "\n",
    "      # only score movies I haven't seen yet\n",
    "      if item not in prefs[person] or prefs[person][item]==0:\n",
    "        # Similarity * Score\n",
    "        totals.setdefault(item,0)\n",
    "        totals[item]+=prefs[other][item]*sim\n",
    "        # Sum of similarities\n",
    "        simSums.setdefault(item,0)\n",
    "        simSums[item]+=sim\n",
    "\n",
    "  # Create the normalized list\n",
    "  rankings=[(total/simSums[item],item) for item,total in totals.items()]\n",
    "\n",
    "  # Return the sorted list rankings.sort()\n",
    "  rankings.sort()\n",
    "  rankings.reverse()\n",
    "  return rankings\n",
    "\"\"\"\n",
    "\n",
    "recommendations.getRecommendationsByUser(prefs,'37')[0:30]"
   ]
  },
  {
   "cell_type": "markdown",
   "metadata": {},
   "source": [
    "##Item-Based Collaborative Filtering"
   ]
  },
  {
   "cell_type": "code",
   "execution_count": 443,
   "metadata": {
    "collapsed": false
   },
   "outputs": [
    {
     "name": "stdout",
     "output_type": "stream",
     "text": [
      "100 / 1664\n",
      "200 / 1664\n",
      "300 / 1664\n",
      "400 / 1664\n",
      "500 / 1664\n",
      "600 / 1664\n",
      "700 / 1664\n",
      "800 / 1664\n",
      "900 / 1664\n",
      "1000 / 1664\n",
      "1100 / 1664\n",
      "1200 / 1664\n",
      "1300 / 1664\n",
      "1400 / 1664\n",
      "1500 / 1664\n",
      "1600 / 1664\n"
     ]
    }
   ],
   "source": [
    "# first we need to build a dictionary of similar items\n",
    "# this function inverts the prefs dictionary and calulates the top n most similar items for each item\n",
    "itemsim=recommendations.calculateSimilarItems(prefs,n=50)"
   ]
  },
  {
   "cell_type": "code",
   "execution_count": 437,
   "metadata": {
    "collapsed": false
   },
   "outputs": [
    {
     "data": {
      "text/plain": [
       "{'Scream (1996)': [(1.0000000000000018, 'Infinity (1996)'),\n",
       "  (1.0, 'Wedding Gift, The (1994)'),\n",
       "  (1.0, 'Turbo: A Power Rangers Movie (1997)'),\n",
       "  (1.0, 'Time Tracers (1995)'),\n",
       "  (1.0, 'Sudden Manhattan (1996)'),\n",
       "  (1.0, 'Scarlet Letter, The (1926)'),\n",
       "  (1.0, 'Safe Passage (1994)'),\n",
       "  (1.0, 'Rendezvous in Paris (Rendez-vous de Paris, Les) (1995)'),\n",
       "  (1.0, 'Maya Lin: A Strong Clear Vision (1994)'),\n",
       "  (1.0, 'Love and Death on Long Island (1997)'),\n",
       "  (1.0, 'Line King: Al Hirschfeld, The (1996)'),\n",
       "  (1.0, 'Calendar Girl (1993)'),\n",
       "  (1.0, 'Buddy (1997)'),\n",
       "  (1.0, 'Bewegte Mann, Der (1994)'),\n",
       "  (1.0, '8 Seconds (1994)'),\n",
       "  (0.999999999999998, 'Caro Diario (Dear Diary) (1994)'),\n",
       "  (0.9961164901835046, 'Leading Man, The (1996)'),\n",
       "  (0.9819805060619656, 'Zeus and Roxanne (1997)'),\n",
       "  (0.9683296637314885, 'Bad Moon (1996)'),\n",
       "  (0.9449111825230678, \"Gilligan's Island: The Movie (1998)\"),\n",
       "  (0.9449111825230674, 'Frisk (1995)'),\n",
       "  (0.8708635721768005, 'Full Speed (1996)'),\n",
       "  (0.8685990362153793, 'Albino Alligator (1996)'),\n",
       "  (0.866025403784439, 'Van, The (1996)'),\n",
       "  (0.866025403784439, 'Quiet Room, The (1996)'),\n",
       "  (0.866025403784439, 'Harlem (1993)'),\n",
       "  (0.8660254037844387, 'In the Line of Duty 2 (1987)'),\n",
       "  (0.8660254037844378, 'No Escape (1994)'),\n",
       "  (0.8557169633109868, 'Nothing to Lose (1994)'),\n",
       "  (0.8392857142857141, 'Haunted World of Edward D. Wood Jr., The (1995)')]"
      ]
     },
     "execution_count": 437,
     "metadata": {},
     "output_type": "execute_result"
    }
   ],
   "source": [
    "itemsim[0:30]"
   ]
  },
  {
   "cell_type": "code",
   "execution_count": 448,
   "metadata": {
    "collapsed": false
   },
   "outputs": [
    {
     "data": {
      "text/plain": [
       "[(5.000000000000001, 'Air Bud (1997)'),\n",
       " (5.0, 'Wishmaster (1997)'),\n",
       " (5.0, 'Palookaville (1996)'),\n",
       " (5.0, 'Nelly & Monsieur Arnaud (1995)'),\n",
       " (5.0, 'Mercury Rising (1998)'),\n",
       " (5.0, 'Last Summer in the Hamptons (1995)'),\n",
       " (5.0, 'Kicking and Screaming (1995)'),\n",
       " (5.0, \"I'm Not Rappaport (1996)\"),\n",
       " (5.0, 'Good Man in Africa, A (1994)'),\n",
       " (5.0, 'French Twist (Gazon maudit) (1995)'),\n",
       " (5.0, 'Deceiver (1997)'),\n",
       " (5.0, 'Daytrippers, The (1996)'),\n",
       " (5.0, 'Country Life (1994)'),\n",
       " (5.0, 'Commandments (1997)'),\n",
       " (5.0, 'Charade (1963)'),\n",
       " (5.0, 'Career Girls (1997)'),\n",
       " (4.789750590601399, 'Zeus and Roxanne (1997)'),\n",
       " (4.742289906695968, 'Twisted (1996)'),\n",
       " (4.679955284098884, 'Last Dance (1996)'),\n",
       " (4.679214831609535, 'Curdled (1996)'),\n",
       " (4.67774081332102, 'When We Were Kings (1996)'),\n",
       " (4.666666666666667, 'Ruling Class, The (1972)'),\n",
       " (4.6519152645903565, 'Thieves (Voleurs, Les) (1996)'),\n",
       " (4.5931218011454895, 'Guilty as Sin (1993)'),\n",
       " (4.558481559887747, 'Above the Rim (1994)'),\n",
       " (4.527942215579836, 'Love in the Afternoon (1957)'),\n",
       " (4.519970457972338, '187 (1997)'),\n",
       " (4.517327174840137, \"Gone Fishin' (1997)\"),\n",
       " (4.500000000000001, 'Designated Mourner, The (1997)'),\n",
       " (4.5, 'Pushing Hands (1992)')]"
      ]
     },
     "execution_count": 448,
     "metadata": {},
     "output_type": "execute_result"
    }
   ],
   "source": [
    "# goes through all of a users items, gets similar items, weights them using their similarity score,\n",
    "# adds up all the products, and takes the weighted average\n",
    "\"\"\"\n",
    "# Gets recommendations for a person by using a weighted list\n",
    "# of items most similar to a user's top-rated items\n",
    "def getRecommendationsByItems(prefs,itemMatch,user):\n",
    "  userRatings=prefs[user]\n",
    "  scores={}\n",
    "  totalSim={}\n",
    "\n",
    "  # Loop over items rated by this user\n",
    "  for (item,rating) in userRatings.items():\n",
    "\n",
    "    # Loop over items similar to this one\n",
    "    for (similarity,item2) in itemMatch[item]:\n",
    "\n",
    "      # Ignore if this user has already rated this item\n",
    "      if item2 in userRatings: continue\n",
    "\n",
    "      # Weighted sum of rating times similarity\n",
    "      scores.setdefault(item2,0)\n",
    "      scores[item2]+=similarity*rating\n",
    "\n",
    "      # Sum of all the similarities\n",
    "      totalSim.setdefault(item2,0)\n",
    "      totalSim[item2]+=similarity\n",
    "\n",
    "  # Divide each total score by total weighting to get an average\n",
    "  rankings=[(score/totalSim[item],item) for item,score in scores.items()]\n",
    "\n",
    "  # Return the rankings from highest to lowest\n",
    "  rankings.sort()\n",
    "  rankings.reverse()\n",
    "  return rankings\n",
    "\"\"\"\n",
    "\n",
    "recommendations.getRecommendationsByItems(prefs,itemsim,'37')[0:30]"
   ]
  },
  {
   "cell_type": "markdown",
   "metadata": {},
   "source": [
    "###Important note about speed\n",
    "Although the item-similarity dictionary takes a while to create, once it's created, recommendations can be calculated a lot more quickly not having to run calculations over the entire data set like in the user-based method."
   ]
  },
  {
   "cell_type": "markdown",
   "metadata": {},
   "source": [
    "##Challenges and Possible Extensions"
   ]
  },
  {
   "cell_type": "markdown",
   "metadata": {},
   "source": [
    "###Validation\n",
    "Although I got each method working, I only validated the results empirically by grabbing recommendations for different users. I tried to do a train-test-split on my data set, but because my recommender system only returns top n recommendations, I was running into issues on not being able to make predictions on some of my test set and it would require a significant change to the code.\n",
    "###Other techniques\n",
    "I did not use any of the other features besides ratings. One thing I could have done was run clustering on either users or movies to subset the data, and then make predictions only within each subset. This would speed up calculations and possibly give better recommendations. Another technique I wanted to try was singular value decomposition. What this does is it decomposes users and movies by matrix factorization into a set of latent factors, like \"horror\" or \"sci-fi\". Recommendations are supposed to be very good and this was used to win the Netflix Prize."
   ]
  }
 ],
 "metadata": {
  "kernelspec": {
   "display_name": "Python 3",
   "language": "python",
   "name": "python3"
  },
  "language_info": {
   "codemirror_mode": {
    "name": "ipython",
    "version": 3
   },
   "file_extension": ".py",
   "mimetype": "text/x-python",
   "name": "python",
   "nbconvert_exporter": "python",
   "pygments_lexer": "ipython3",
   "version": "3.4.3"
  }
 },
 "nbformat": 4,
 "nbformat_minor": 0
}
